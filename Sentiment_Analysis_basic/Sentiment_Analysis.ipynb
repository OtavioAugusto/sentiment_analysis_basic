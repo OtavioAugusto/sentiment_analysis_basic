{
 "cells": [
  {
   "cell_type": "code",
   "execution_count": null,
   "metadata": {},
   "outputs": [],
   "source": [
    "import pandas as pd\n",
    "\n",
    "df = pd.read_excel('sentiment_analysis.xlsx')\n",
    "df.head()"
   ]
  },
  {
   "cell_type": "code",
   "execution_count": null,
   "metadata": {},
   "outputs": [],
   "source": [
    "from textblob import TextBlob\n",
    "\n",
    "for index, row in df.iterrows():\n",
    "    en_blob = df.iloc[index]['Frase']\n",
    "    sentiment = df.iloc[index]['Sentimento']\n",
    "    translation = TextBlob(en_blob)\n",
    "    pt_blob = translation.translate(from_lang='en', to='pt')\n",
    "    df.at[index, str('Frase')] = str(pt_blob)\n",
    "    df.at[index, str('Sentimento')] = sentiment\n",
    "df.head()"
   ]
  },
  {
   "cell_type": "code",
   "execution_count": null,
   "metadata": {},
   "outputs": [],
   "source": [
    "from translate import Translator\n",
    "\n",
    "for index, row in df.iterrows():\n",
    "    en_blob = df.iloc[index]['Frase']\n",
    "    sentiment = df.iloc[index]['Sentimento']\n",
    "    translator= Translator(to_lang=\"pt\")\n",
    "    pt_blob = translator.translate(en_blob)\n",
    "    df.at[index, str('Frase')] = str(pt_blob)\n",
    "    df.at[index, str('Sentimento')] = sentiment\n",
    "df.head()"
   ]
  },
  {
   "cell_type": "code",
   "execution_count": null,
   "metadata": {},
   "outputs": [],
   "source": [
    "from sklearn.feature_extraction.text import CountVectorizer\n",
    "from sklearn.naive_bayes import BernoulliNB\n",
    "\n",
    "vetorizador = CountVectorizer(binary = 'true')\n",
    "X = vetorizador.fit_transform(df['Frase'])"
   ]
  },
  {
   "cell_type": "code",
   "execution_count": null,
   "metadata": {},
   "outputs": [],
   "source": [
    "y = df.Sentimento"
   ]
  },
  {
   "cell_type": "code",
   "execution_count": null,
   "metadata": {},
   "outputs": [],
   "source": [
    "from sklearn.model_selection import train_test_split\n",
    "X_train, X_test, y_train, y_test = train_test_split(X, y, test_size=0.3)\n",
    "clf = BernoulliNB()\n",
    "clf.fit(X_train,y_train)"
   ]
  },
  {
   "cell_type": "code",
   "execution_count": null,
   "metadata": {},
   "outputs": [],
   "source": [
    "y_pred = clf.predict(X_test)\n",
    "y_true =  y_test\n",
    "\n",
    "print(\"Resultados obtidos: \")\n",
    "print(y_pred)\n",
    "print(\"\\n Resultados esperados: \")\n",
    "print(y_true.values)"
   ]
  },
  {
   "cell_type": "code",
   "execution_count": null,
   "metadata": {},
   "outputs": [],
   "source": [
    "from sklearn import metrics\n",
    "\n",
    "print(\"Precision Macro \" + str(metrics.precision_score(y_true, y_pred, average='macro')))\n",
    "print(\"Precision Micro \" + str(metrics.precision_score(y_true, y_pred, average='micro')))\n",
    "print(\"Precision Weighted \" + str(metrics.precision_score(y_true, y_pred, average='weighted')))"
   ]
  }
 ],
 "metadata": {
  "kernelspec": {
   "display_name": "Python 3",
   "language": "python",
   "name": "python3"
  },
  "language_info": {
   "codemirror_mode": {
    "name": "ipython",
    "version": 3
   },
   "file_extension": ".py",
   "mimetype": "text/x-python",
   "name": "python",
   "nbconvert_exporter": "python",
   "pygments_lexer": "ipython3",
   "version": "3.6.6"
  }
 },
 "nbformat": 4,
 "nbformat_minor": 2
}
